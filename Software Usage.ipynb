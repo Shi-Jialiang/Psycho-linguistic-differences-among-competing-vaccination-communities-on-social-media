{
 "cells": [
  {
   "cell_type": "markdown",
   "id": "ce41cac5-9c55-4547-a9ac-f4a7f9d8979d",
   "metadata": {},
   "source": [
    "# Gephi "
   ]
  },
  {
   "cell_type": "markdown",
   "id": "9634ad51-eb96-4095-ba6d-2f03a3eb1bd8",
   "metadata": {},
   "source": [
    "#### ***Indroduction***: Gephi is an open-source software for visualizing and analysing large networks graphs. Gephi uses a 3D render engine to display graphs in real-time and speed up the exploration. You can use it to explore, analyse, spatialise, filter, cluterize, manipulate and export all types of graphs."
   ]
  },
  {
   "cell_type": "markdown",
   "id": "5291a714-64b2-4df1-b620-a4d8e7dd732c",
   "metadata": {},
   "source": [
    "#### ***Process*** for clusteriong: \"Open\" -> \"Layout(ForceAtlas 2)\" -> \"Modularity(Resoultion=1)\" -> \"Partition(Modularity Class)\" -> \"Data Laboratory\"(to get .csv)"
   ]
  },
  {
   "cell_type": "markdown",
   "id": "6eff4d50-7fcf-4c66-b89f-660eea6f3a14",
   "metadata": {},
   "source": [
    "#### ***Download***: https://gephi.org/users/download/"
   ]
  },
  {
   "cell_type": "markdown",
   "id": "c68037d8-a5af-41d9-a372-6b1404f05b7e",
   "metadata": {},
   "source": [
    "# LIWC "
   ]
  },
  {
   "cell_type": "markdown",
   "id": "cf124231-2d7e-4f51-99fb-a217560b9d30",
   "metadata": {},
   "source": [
    "#### ***Indroduction***: LIWC2015 is the gold standard in computerized text analysis. Learn how the words we use in everyday language reveal our thoughts, feelings, personality, and motivations."
   ]
  },
  {
   "cell_type": "markdown",
   "id": "ee58fbc0-c14b-4347-8b36-2ccfa886455f",
   "metadata": {},
   "source": [
    "#### ***Process***: \"Operations(choose categories you want)\" -> \"File(Analyze excel)\""
   ]
  },
  {
   "cell_type": "markdown",
   "id": "668f499e-5f12-4882-a372-7671a3245dbc",
   "metadata": {},
   "source": [
    "#### ***Download***: https://liwcsoftware.onfastspring.com"
   ]
  },
  {
   "cell_type": "code",
   "execution_count": null,
   "id": "ebcfd3ae-3441-4be4-88b9-32de1cb8a3f9",
   "metadata": {},
   "outputs": [],
   "source": []
  }
 ],
 "metadata": {
  "kernelspec": {
   "display_name": "Python 3",
   "language": "python",
   "name": "python3"
  },
  "language_info": {
   "codemirror_mode": {
    "name": "ipython",
    "version": 3
   },
   "file_extension": ".py",
   "mimetype": "text/x-python",
   "name": "python",
   "nbconvert_exporter": "python",
   "pygments_lexer": "ipython3",
   "version": "3.8.8"
  }
 },
 "nbformat": 4,
 "nbformat_minor": 5
}
